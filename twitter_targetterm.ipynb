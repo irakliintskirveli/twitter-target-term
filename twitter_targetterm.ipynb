{
 "cells": [
  {
   "cell_type": "code",
   "execution_count": 1,
   "metadata": {
    "collapsed": true
   },
   "outputs": [],
   "source": [
    "import pandas as pd \n",
    "import requests as req\n",
    "import json \n",
    "import datetime as dt\n",
    "import numpy as np\n",
    "import seaborn as sns\n",
    "import matplotlib as plt"
   ]
  },
  {
   "cell_type": "code",
   "execution_count": 2,
   "metadata": {
    "collapsed": true
   },
   "outputs": [],
   "source": [
    "from vaderSentiment.vaderSentiment import SentimentIntensityAnalyzer\n",
    "analyzer = SentimentIntensityAnalyzer()"
   ]
  },
  {
   "cell_type": "code",
   "execution_count": 3,
   "metadata": {
    "collapsed": true
   },
   "outputs": [],
   "source": [
    "json_NYSE = ('NYSE.json')\n",
    "df_NYSE = pd.read_json(json_NYSE)\n",
    "#df_NYSE.tail()"
   ]
  },
  {
   "cell_type": "code",
   "execution_count": 4,
   "metadata": {
    "collapsed": true
   },
   "outputs": [],
   "source": [
    "text_sentiment_compound_NYSE  = []\n",
    "for i in df_NYSE['text']:\n",
    "    compound = analyzer.polarity_scores(i)['compound']\n",
    "    text_sentiment_compound_NYSE.append(compound)"
   ]
  },
  {
   "cell_type": "code",
   "execution_count": 5,
   "metadata": {
    "collapsed": true
   },
   "outputs": [],
   "source": [
    "df_NYSE['Compound_NYSE']=text_sentiment_compound_NYSE\n",
    "#df_NYSE.info()"
   ]
  },
  {
   "cell_type": "code",
   "execution_count": 6,
   "metadata": {
    "collapsed": true
   },
   "outputs": [],
   "source": [
    "df_NYSE['Date']=df_NYSE['timestamp'].map(lambda x: x.date())\n",
    "\n",
    "#use the rename(columns={})\n",
    "df_NYSE_cleaned_headers = df_NYSE[['Date','Compound_NYSE']]\n",
    "\n",
    "#get rid of all compounds with a score of equal to zero\n",
    "df_NYSE_cleaned_headers = df_NYSE_cleaned_headers.loc[(df_NYSE_cleaned_headers['Compound_NYSE']>0) | (df_NYSE_cleaned_headers['Compound_NYSE'] <0)]\n",
    "\n",
    "df_NYSE_cleaned_compound_NYSE = df_NYSE_cleaned_headers.reset_index(drop=True)\n",
    "\n",
    "mean_compound_NYSE=df_NYSE_cleaned_compound_NYSE.groupby(\"Date\")[\"Compound_NYSE\"].mean()\n",
    "\n",
    "#mean_compound_NYSE\n",
    "df_mean_compound_NYSE=pd.DataFrame(mean_compound_NYSE)\n",
    "df_mean_compound_NYSE.to_csv(\"NYSE.csv\")\n",
    "#df_mean_compound_NYSE"
   ]
  },
  {
   "cell_type": "code",
   "execution_count": 7,
   "metadata": {
    "collapsed": true
   },
   "outputs": [],
   "source": [
    "json_NASDAQ = ('NASDAQ.json')\n",
    "df_NASDAQ = pd.read_json(json_NASDAQ)\n",
    "#df_NASDAQ.tail()"
   ]
  },
  {
   "cell_type": "code",
   "execution_count": 8,
   "metadata": {
    "collapsed": true
   },
   "outputs": [],
   "source": [
    "text_sentiment_compound_NASDAQ  = []\n",
    "for i in df_NASDAQ['text']:\n",
    "    compound = analyzer.polarity_scores(i)['compound']\n",
    "    text_sentiment_compound_NASDAQ.append(compound)"
   ]
  },
  {
   "cell_type": "code",
   "execution_count": 9,
   "metadata": {
    "collapsed": true
   },
   "outputs": [],
   "source": [
    "df_NASDAQ['Compound_NASDAQ']=text_sentiment_compound_NASDAQ\n",
    "#df_NASDAQ.info()"
   ]
  },
  {
   "cell_type": "code",
   "execution_count": 10,
   "metadata": {
    "collapsed": true
   },
   "outputs": [],
   "source": [
    "df_NASDAQ['Date']=df_NASDAQ['timestamp'].map(lambda x: x.date())\n",
    "\n",
    "#use the rename(columns={})\n",
    "df_NASDAQ_cleaned_headers = df_NASDAQ[['Date','Compound_NASDAQ']]\n",
    "\n",
    "#get rid of all compounds with a score of equal to zero\n",
    "df_NASDAQ_cleaned_headers = df_NASDAQ_cleaned_headers.loc[(df_NASDAQ_cleaned_headers['Compound_NASDAQ']>0) | (df_NASDAQ_cleaned_headers['Compound_NASDAQ'] <0)]\n",
    "\n",
    "df_NASDAQ_cleaned_compound_NASDAQ = df_NASDAQ_cleaned_headers.reset_index(drop=True)\n",
    "\n",
    "mean_compound_NASDAQ=df_NASDAQ_cleaned_compound_NASDAQ.groupby(\"Date\")[\"Compound_NASDAQ\"].mean()\n",
    "\n",
    "#mean_compound_NASDAQ\n",
    "df_mean_compound_NASDAQ=pd.DataFrame(mean_compound_NASDAQ)\n",
    "df_mean_compound_NASDAQ.to_csv(\"NASDAQ.csv\")\n",
    "#df_mean_compound_NASDAQ"
   ]
  },
  {
   "cell_type": "code",
   "execution_count": 11,
   "metadata": {
    "collapsed": true
   },
   "outputs": [],
   "source": [
    "json_DowJones = ('DowJones.json')\n",
    "df_DowJones = pd.read_json(json_DowJones)\n",
    "#df_NASDAQ.tail()"
   ]
  },
  {
   "cell_type": "code",
   "execution_count": 12,
   "metadata": {
    "collapsed": true
   },
   "outputs": [],
   "source": [
    "text_sentiment_compound_DowJones  = []\n",
    "for i in df_DowJones['text']:\n",
    "    compound = analyzer.polarity_scores(i)['compound']\n",
    "    text_sentiment_compound_DowJones.append(compound)"
   ]
  },
  {
   "cell_type": "code",
   "execution_count": 13,
   "metadata": {
    "collapsed": true
   },
   "outputs": [],
   "source": [
    "df_DowJones['Compound_DowJones']=text_sentiment_compound_DowJones\n",
    "#df_DowJones.info()"
   ]
  },
  {
   "cell_type": "code",
   "execution_count": 14,
   "metadata": {
    "collapsed": true
   },
   "outputs": [],
   "source": [
    "df_DowJones['Date']=df_DowJones['timestamp'].map(lambda x: x.date())\n",
    "\n",
    "#use the rename(columns={})\n",
    "df_DowJones_cleaned_headers = df_DowJones[['Date','Compound_DowJones']]\n",
    "\n",
    "#get rid of all compounds with a score of equal to zero\n",
    "df_DowJones_cleaned_headers = df_DowJones_cleaned_headers.loc[(df_DowJones_cleaned_headers['Compound_DowJones']>0) | (df_DowJones_cleaned_headers['Compound_DowJones'] <0)]\n",
    "\n",
    "df_DowJones_cleaned_compound_DowJones = df_DowJones_cleaned_headers.reset_index(drop=True)\n",
    "\n",
    "mean_compound_DowJones=df_DowJones_cleaned_compound_DowJones.groupby(\"Date\")[\"Compound_DowJones\"].mean()\n",
    "\n",
    "#mean_compound_DowJones\n",
    "df_mean_compound_DowJones=pd.DataFrame(mean_compound_DowJones)\n",
    "df_mean_compound_DowJones.to_csv(\"DowJones.csv\")\n",
    "#df_mean_compound_DowJones"
   ]
  },
  {
   "cell_type": "code",
   "execution_count": 15,
   "metadata": {
    "collapsed": true
   },
   "outputs": [],
   "source": [
    "json_stockmarket = ('stockmarket.json')\n",
    "df_stockmarket = pd.read_json(json_stockmarket)\n",
    "#df_stockmarket.tail()"
   ]
  },
  {
   "cell_type": "code",
   "execution_count": 16,
   "metadata": {
    "collapsed": true
   },
   "outputs": [],
   "source": [
    "text_sentiment_compound_stockmarket  = []\n",
    "for i in df_stockmarket['text']:\n",
    "    compound = analyzer.polarity_scores(i)['compound']\n",
    "    text_sentiment_compound_stockmarket.append(compound)"
   ]
  },
  {
   "cell_type": "code",
   "execution_count": 17,
   "metadata": {
    "collapsed": true
   },
   "outputs": [],
   "source": [
    "df_stockmarket['Compound_stockmarket']=text_sentiment_compound_stockmarket\n",
    "#df_stockmarket.info()"
   ]
  },
  {
   "cell_type": "code",
   "execution_count": 18,
   "metadata": {
    "collapsed": true
   },
   "outputs": [],
   "source": [
    "df_stockmarket['Date']=df_stockmarket['timestamp'].map(lambda x: x.date())\n",
    "\n",
    "#use the rename(columns={})\n",
    "df_stockmarket_cleaned_headers = df_stockmarket[['Date','Compound_stockmarket']]\n",
    "\n",
    "#get rid of all compounds with a score of equal to zero\n",
    "df_stockmarket_cleaned_headers = df_stockmarket_cleaned_headers.loc[(df_stockmarket_cleaned_headers['Compound_stockmarket']>0) | (df_stockmarket_cleaned_headers['Compound_stockmarket'] <0)]\n",
    "\n",
    "df_stockmarket_cleaned_compound_stockmarket = df_stockmarket_cleaned_headers.reset_index(drop=True)\n",
    "\n",
    "mean_compound_stockmarket=df_stockmarket_cleaned_compound_stockmarket.groupby(\"Date\")[\"Compound_stockmarket\"].mean()\n",
    "\n",
    "#mean_compound_stockmarket\n",
    "df_mean_compound_stockmarket=pd.DataFrame(mean_compound_stockmarket)\n",
    "df_mean_compound_stockmarket.to_csv(\"stockmarket.csv\")\n",
    "#df_mean_compound_stockmarket"
   ]
  },
  {
   "cell_type": "code",
   "execution_count": 19,
   "metadata": {
    "collapsed": true
   },
   "outputs": [],
   "source": [
    "# Combining CSV files. Getting all mean compound for target terms on one table \n",
    "file_stockmarket = \"stockmarket.csv\"\n",
    "file_DowJones = \"DowJones.csv\"\n",
    "file_NASDAQ = \"NASDAQ.csv\"\n",
    "file_NYSE = \"NYSE.csv\""
   ]
  },
  {
   "cell_type": "code",
   "execution_count": 23,
   "metadata": {},
   "outputs": [],
   "source": [
    "stockmarket = pd.read_csv(file_stockmarket)\n",
    "DowJones = pd.read_csv(file_DowJones)\n",
    "NASDAQ = pd.read_csv(file_NASDAQ)\n",
    "NYSE = pd.read_csv(file_NYSE)"
   ]
  },
  {
   "cell_type": "code",
   "execution_count": 24,
   "metadata": {},
   "outputs": [
    {
     "data": {
      "text/html": [
       "<div>\n",
       "<style>\n",
       "    .dataframe thead tr:only-child th {\n",
       "        text-align: right;\n",
       "    }\n",
       "\n",
       "    .dataframe thead th {\n",
       "        text-align: left;\n",
       "    }\n",
       "\n",
       "    .dataframe tbody tr th {\n",
       "        vertical-align: top;\n",
       "    }\n",
       "</style>\n",
       "<table border=\"1\" class=\"dataframe\">\n",
       "  <thead>\n",
       "    <tr style=\"text-align: right;\">\n",
       "      <th></th>\n",
       "      <th>Date</th>\n",
       "      <th>Compound_stockmarket</th>\n",
       "      <th>Compound_DowJones</th>\n",
       "      <th>Compound_NASDAQ</th>\n",
       "      <th>Compound_NYSE</th>\n",
       "    </tr>\n",
       "  </thead>\n",
       "  <tbody>\n",
       "    <tr>\n",
       "      <th>0</th>\n",
       "      <td>2017-12-01</td>\n",
       "      <td>0.074108</td>\n",
       "      <td>0.112647</td>\n",
       "      <td>0.226000</td>\n",
       "      <td>0.216636</td>\n",
       "    </tr>\n",
       "    <tr>\n",
       "      <th>1</th>\n",
       "      <td>2017-12-02</td>\n",
       "      <td>-0.154898</td>\n",
       "      <td>0.015204</td>\n",
       "      <td>0.072217</td>\n",
       "      <td>0.084436</td>\n",
       "    </tr>\n",
       "    <tr>\n",
       "      <th>2</th>\n",
       "      <td>2017-12-03</td>\n",
       "      <td>-0.236575</td>\n",
       "      <td>-0.086597</td>\n",
       "      <td>0.267865</td>\n",
       "      <td>0.258864</td>\n",
       "    </tr>\n",
       "    <tr>\n",
       "      <th>3</th>\n",
       "      <td>2017-12-04</td>\n",
       "      <td>0.031549</td>\n",
       "      <td>0.023830</td>\n",
       "      <td>0.188898</td>\n",
       "      <td>0.349148</td>\n",
       "    </tr>\n",
       "    <tr>\n",
       "      <th>4</th>\n",
       "      <td>2017-12-05</td>\n",
       "      <td>0.012240</td>\n",
       "      <td>-0.014471</td>\n",
       "      <td>0.153072</td>\n",
       "      <td>0.290614</td>\n",
       "    </tr>\n",
       "    <tr>\n",
       "      <th>5</th>\n",
       "      <td>2017-12-06</td>\n",
       "      <td>0.076982</td>\n",
       "      <td>-0.068465</td>\n",
       "      <td>0.257540</td>\n",
       "      <td>0.246785</td>\n",
       "    </tr>\n",
       "    <tr>\n",
       "      <th>6</th>\n",
       "      <td>2017-12-07</td>\n",
       "      <td>0.117893</td>\n",
       "      <td>-0.013719</td>\n",
       "      <td>0.312886</td>\n",
       "      <td>0.259690</td>\n",
       "    </tr>\n",
       "    <tr>\n",
       "      <th>7</th>\n",
       "      <td>2017-12-08</td>\n",
       "      <td>0.124872</td>\n",
       "      <td>0.197037</td>\n",
       "      <td>0.352862</td>\n",
       "      <td>0.130623</td>\n",
       "    </tr>\n",
       "    <tr>\n",
       "      <th>8</th>\n",
       "      <td>2017-12-09</td>\n",
       "      <td>0.096967</td>\n",
       "      <td>0.270222</td>\n",
       "      <td>0.334080</td>\n",
       "      <td>0.248486</td>\n",
       "    </tr>\n",
       "    <tr>\n",
       "      <th>9</th>\n",
       "      <td>2017-12-10</td>\n",
       "      <td>0.030657</td>\n",
       "      <td>0.264938</td>\n",
       "      <td>0.359973</td>\n",
       "      <td>0.233906</td>\n",
       "    </tr>\n",
       "    <tr>\n",
       "      <th>10</th>\n",
       "      <td>2017-12-11</td>\n",
       "      <td>0.107841</td>\n",
       "      <td>0.155555</td>\n",
       "      <td>0.332114</td>\n",
       "      <td>0.261354</td>\n",
       "    </tr>\n",
       "    <tr>\n",
       "      <th>11</th>\n",
       "      <td>2017-12-12</td>\n",
       "      <td>0.149188</td>\n",
       "      <td>0.177248</td>\n",
       "      <td>0.260784</td>\n",
       "      <td>0.260063</td>\n",
       "    </tr>\n",
       "    <tr>\n",
       "      <th>12</th>\n",
       "      <td>2017-12-13</td>\n",
       "      <td>0.102560</td>\n",
       "      <td>0.124631</td>\n",
       "      <td>0.312702</td>\n",
       "      <td>0.276952</td>\n",
       "    </tr>\n",
       "    <tr>\n",
       "      <th>13</th>\n",
       "      <td>2017-12-14</td>\n",
       "      <td>0.104646</td>\n",
       "      <td>0.095950</td>\n",
       "      <td>0.315387</td>\n",
       "      <td>0.311375</td>\n",
       "    </tr>\n",
       "    <tr>\n",
       "      <th>14</th>\n",
       "      <td>2017-12-15</td>\n",
       "      <td>0.125135</td>\n",
       "      <td>0.098009</td>\n",
       "      <td>0.323711</td>\n",
       "      <td>0.283222</td>\n",
       "    </tr>\n",
       "  </tbody>\n",
       "</table>\n",
       "</div>"
      ],
      "text/plain": [
       "          Date  Compound_stockmarket  Compound_DowJones  Compound_NASDAQ  \\\n",
       "0   2017-12-01              0.074108           0.112647         0.226000   \n",
       "1   2017-12-02             -0.154898           0.015204         0.072217   \n",
       "2   2017-12-03             -0.236575          -0.086597         0.267865   \n",
       "3   2017-12-04              0.031549           0.023830         0.188898   \n",
       "4   2017-12-05              0.012240          -0.014471         0.153072   \n",
       "5   2017-12-06              0.076982          -0.068465         0.257540   \n",
       "6   2017-12-07              0.117893          -0.013719         0.312886   \n",
       "7   2017-12-08              0.124872           0.197037         0.352862   \n",
       "8   2017-12-09              0.096967           0.270222         0.334080   \n",
       "9   2017-12-10              0.030657           0.264938         0.359973   \n",
       "10  2017-12-11              0.107841           0.155555         0.332114   \n",
       "11  2017-12-12              0.149188           0.177248         0.260784   \n",
       "12  2017-12-13              0.102560           0.124631         0.312702   \n",
       "13  2017-12-14              0.104646           0.095950         0.315387   \n",
       "14  2017-12-15              0.125135           0.098009         0.323711   \n",
       "\n",
       "    Compound_NYSE  \n",
       "0        0.216636  \n",
       "1        0.084436  \n",
       "2        0.258864  \n",
       "3        0.349148  \n",
       "4        0.290614  \n",
       "5        0.246785  \n",
       "6        0.259690  \n",
       "7        0.130623  \n",
       "8        0.248486  \n",
       "9        0.233906  \n",
       "10       0.261354  \n",
       "11       0.260063  \n",
       "12       0.276952  \n",
       "13       0.311375  \n",
       "14       0.283222  "
      ]
     },
     "execution_count": 24,
     "metadata": {},
     "output_type": "execute_result"
    }
   ],
   "source": [
    "stockmarket_DowJones = pd.merge(stockmarket, DowJones, how=\"inner\", on=\"Date\")\n",
    "stockmarket_DowJones_NASDAQ = pd.merge(stockmarket_DowJones,NASDAQ , how=\"inner\", on=\"Date\")\n",
    "stockmarket_DowJones_NASDAQ_NYSE = pd.merge(stockmarket_DowJones_NASDAQ, NYSE, how=\"inner\", on=\"Date\")\n",
    "stockmarket_DowJones_NASDAQ_NYSE"
   ]
  },
  {
   "cell_type": "code",
   "execution_count": 25,
   "metadata": {
    "collapsed": true
   },
   "outputs": [],
   "source": [
    "stockmarket_DowJones_NASDAQ_NYSE.to_csv(\"meancompound_target_terms.csv\")"
   ]
  },
  {
   "cell_type": "markdown",
   "metadata": {
    "collapsed": true
   },
   "source": [
    "## Line Plot  "
   ]
  },
  {
   "cell_type": "code",
   "execution_count": 28,
   "metadata": {
    "collapsed": true
   },
   "outputs": [],
   "source": [
    "import datetime\n",
    "import numpy as np\n",
    "from matplotlib import pyplot as plt"
   ]
  },
  {
   "cell_type": "code",
   "execution_count": 35,
   "metadata": {},
   "outputs": [
    {
     "data": {
      "text/html": [
       "<div>\n",
       "<style>\n",
       "    .dataframe thead tr:only-child th {\n",
       "        text-align: right;\n",
       "    }\n",
       "\n",
       "    .dataframe thead th {\n",
       "        text-align: left;\n",
       "    }\n",
       "\n",
       "    .dataframe tbody tr th {\n",
       "        vertical-align: top;\n",
       "    }\n",
       "</style>\n",
       "<table border=\"1\" class=\"dataframe\">\n",
       "  <thead>\n",
       "    <tr style=\"text-align: right;\">\n",
       "      <th></th>\n",
       "      <th>Unnamed: 0</th>\n",
       "      <th>Date</th>\n",
       "      <th>Compound_stockmarket</th>\n",
       "      <th>Compound_DowJones</th>\n",
       "      <th>Compound_NASDAQ</th>\n",
       "      <th>Compound_NYSE</th>\n",
       "    </tr>\n",
       "  </thead>\n",
       "  <tbody>\n",
       "    <tr>\n",
       "      <th>0</th>\n",
       "      <td>0</td>\n",
       "      <td>2017-12-01</td>\n",
       "      <td>0.074108</td>\n",
       "      <td>0.112647</td>\n",
       "      <td>0.226000</td>\n",
       "      <td>0.216636</td>\n",
       "    </tr>\n",
       "    <tr>\n",
       "      <th>1</th>\n",
       "      <td>1</td>\n",
       "      <td>2017-12-02</td>\n",
       "      <td>-0.154898</td>\n",
       "      <td>0.015204</td>\n",
       "      <td>0.072217</td>\n",
       "      <td>0.084436</td>\n",
       "    </tr>\n",
       "    <tr>\n",
       "      <th>2</th>\n",
       "      <td>2</td>\n",
       "      <td>2017-12-03</td>\n",
       "      <td>-0.236575</td>\n",
       "      <td>-0.086597</td>\n",
       "      <td>0.267865</td>\n",
       "      <td>0.258864</td>\n",
       "    </tr>\n",
       "    <tr>\n",
       "      <th>3</th>\n",
       "      <td>3</td>\n",
       "      <td>2017-12-04</td>\n",
       "      <td>0.031549</td>\n",
       "      <td>0.023830</td>\n",
       "      <td>0.188898</td>\n",
       "      <td>0.349148</td>\n",
       "    </tr>\n",
       "    <tr>\n",
       "      <th>4</th>\n",
       "      <td>4</td>\n",
       "      <td>2017-12-05</td>\n",
       "      <td>0.012240</td>\n",
       "      <td>-0.014471</td>\n",
       "      <td>0.153072</td>\n",
       "      <td>0.290614</td>\n",
       "    </tr>\n",
       "    <tr>\n",
       "      <th>5</th>\n",
       "      <td>5</td>\n",
       "      <td>2017-12-06</td>\n",
       "      <td>0.076982</td>\n",
       "      <td>-0.068465</td>\n",
       "      <td>0.257540</td>\n",
       "      <td>0.246785</td>\n",
       "    </tr>\n",
       "    <tr>\n",
       "      <th>6</th>\n",
       "      <td>6</td>\n",
       "      <td>2017-12-07</td>\n",
       "      <td>0.117893</td>\n",
       "      <td>-0.013719</td>\n",
       "      <td>0.312886</td>\n",
       "      <td>0.259690</td>\n",
       "    </tr>\n",
       "    <tr>\n",
       "      <th>7</th>\n",
       "      <td>7</td>\n",
       "      <td>2017-12-08</td>\n",
       "      <td>0.124872</td>\n",
       "      <td>0.197037</td>\n",
       "      <td>0.352862</td>\n",
       "      <td>0.130623</td>\n",
       "    </tr>\n",
       "    <tr>\n",
       "      <th>8</th>\n",
       "      <td>8</td>\n",
       "      <td>2017-12-09</td>\n",
       "      <td>0.096967</td>\n",
       "      <td>0.270222</td>\n",
       "      <td>0.334080</td>\n",
       "      <td>0.248486</td>\n",
       "    </tr>\n",
       "    <tr>\n",
       "      <th>9</th>\n",
       "      <td>9</td>\n",
       "      <td>2017-12-10</td>\n",
       "      <td>0.030657</td>\n",
       "      <td>0.264938</td>\n",
       "      <td>0.359973</td>\n",
       "      <td>0.233906</td>\n",
       "    </tr>\n",
       "    <tr>\n",
       "      <th>10</th>\n",
       "      <td>10</td>\n",
       "      <td>2017-12-11</td>\n",
       "      <td>0.107841</td>\n",
       "      <td>0.155555</td>\n",
       "      <td>0.332114</td>\n",
       "      <td>0.261354</td>\n",
       "    </tr>\n",
       "    <tr>\n",
       "      <th>11</th>\n",
       "      <td>11</td>\n",
       "      <td>2017-12-12</td>\n",
       "      <td>0.149188</td>\n",
       "      <td>0.177248</td>\n",
       "      <td>0.260784</td>\n",
       "      <td>0.260063</td>\n",
       "    </tr>\n",
       "    <tr>\n",
       "      <th>12</th>\n",
       "      <td>12</td>\n",
       "      <td>2017-12-13</td>\n",
       "      <td>0.102560</td>\n",
       "      <td>0.124631</td>\n",
       "      <td>0.312702</td>\n",
       "      <td>0.276952</td>\n",
       "    </tr>\n",
       "    <tr>\n",
       "      <th>13</th>\n",
       "      <td>13</td>\n",
       "      <td>2017-12-14</td>\n",
       "      <td>0.104646</td>\n",
       "      <td>0.095950</td>\n",
       "      <td>0.315387</td>\n",
       "      <td>0.311375</td>\n",
       "    </tr>\n",
       "    <tr>\n",
       "      <th>14</th>\n",
       "      <td>14</td>\n",
       "      <td>2017-12-15</td>\n",
       "      <td>0.125135</td>\n",
       "      <td>0.098009</td>\n",
       "      <td>0.323711</td>\n",
       "      <td>0.283222</td>\n",
       "    </tr>\n",
       "  </tbody>\n",
       "</table>\n",
       "</div>"
      ],
      "text/plain": [
       "    Unnamed: 0        Date  Compound_stockmarket  Compound_DowJones  \\\n",
       "0            0  2017-12-01              0.074108           0.112647   \n",
       "1            1  2017-12-02             -0.154898           0.015204   \n",
       "2            2  2017-12-03             -0.236575          -0.086597   \n",
       "3            3  2017-12-04              0.031549           0.023830   \n",
       "4            4  2017-12-05              0.012240          -0.014471   \n",
       "5            5  2017-12-06              0.076982          -0.068465   \n",
       "6            6  2017-12-07              0.117893          -0.013719   \n",
       "7            7  2017-12-08              0.124872           0.197037   \n",
       "8            8  2017-12-09              0.096967           0.270222   \n",
       "9            9  2017-12-10              0.030657           0.264938   \n",
       "10          10  2017-12-11              0.107841           0.155555   \n",
       "11          11  2017-12-12              0.149188           0.177248   \n",
       "12          12  2017-12-13              0.102560           0.124631   \n",
       "13          13  2017-12-14              0.104646           0.095950   \n",
       "14          14  2017-12-15              0.125135           0.098009   \n",
       "\n",
       "    Compound_NASDAQ  Compound_NYSE  \n",
       "0          0.226000       0.216636  \n",
       "1          0.072217       0.084436  \n",
       "2          0.267865       0.258864  \n",
       "3          0.188898       0.349148  \n",
       "4          0.153072       0.290614  \n",
       "5          0.257540       0.246785  \n",
       "6          0.312886       0.259690  \n",
       "7          0.352862       0.130623  \n",
       "8          0.334080       0.248486  \n",
       "9          0.359973       0.233906  \n",
       "10         0.332114       0.261354  \n",
       "11         0.260784       0.260063  \n",
       "12         0.312702       0.276952  \n",
       "13         0.315387       0.311375  \n",
       "14         0.323711       0.283222  "
      ]
     },
     "execution_count": 35,
     "metadata": {},
     "output_type": "execute_result"
    }
   ],
   "source": [
    "# Combining CSV files. Getting all mean compound for target terms on one table \n",
    "file_stockmarket = \"meancompound_target_terms.csv\"\n",
    "stockmarket = pd.read_csv(file_stockmarket)\n",
    "df_stockmarket = stockmarket\n",
    "df_stockmarket\n"
   ]
  },
  {
   "cell_type": "code",
   "execution_count": 36,
   "metadata": {},
   "outputs": [
    {
     "data": {
      "image/png": "[encoded data removed]",
      "text/plain": [
       "<matplotlib.figure.Figure at 0x1a15818240>"
      ]
     },
     "metadata": {},
     "output_type": "display_data"
    }
   ],
   "source": [
    "plt.figure(figsize=(10,4))\n",
    "\n",
    "Date = df_stockmarket['Date']\n",
    "stockmarket = df_stockmarket['Compound_stockmarket']\n",
    "DowJones = df_stockmarket['Compound_DowJones']\n",
    "NASDAQ = df_stockmarket['Compound_NASDAQ']\n",
    "NYSE = df_stockmarket['Compound_NYSE']\n",
    "\n",
    "\n",
    "\n",
    "plt.plot(Date,stockmarket)\n",
    "plt.plot(Date,DowJones)\n",
    "plt.plot(Date,NASDAQ)\n",
    "plt.plot(Date,NYSE)\n",
    "plt.legend(loc='best')\n",
    "plt.show()\n"
   ]
  },
  {
   "cell_type": "code",
   "execution_count": null,
   "metadata": {
    "collapsed": true
   },
   "outputs": [],
   "source": []
  }
 ],
 "metadata": {
  "kernelspec": {
   "display_name": "Python 3",
   "language": "python",
   "name": "python3"
  },
  "language_info": {
   "codemirror_mode": {
    "name": "ipython",
    "version": 3
   },
   "file_extension": ".py",
   "mimetype": "text/x-python",
   "name": "python",
   "nbconvert_exporter": "python",
   "pygments_lexer": "ipython3",
   "version": "3.6.3"
  }
 },
 "nbformat": 4,
 "nbformat_minor": 2
}
